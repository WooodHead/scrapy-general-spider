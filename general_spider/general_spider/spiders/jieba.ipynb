{
 "cells": [
  {
   "cell_type": "code",
   "execution_count": 1,
   "metadata": {
    "collapsed": false
   },
   "outputs": [
    {
     "name": "stdout",
     "output_type": "stream",
     "text": [
      "it works\n"
     ]
    }
   ],
   "source": []
  },
  {
   "cell_type": "code",
   "execution_count": 24,
   "metadata": {
    "collapsed": false
   },
   "outputs": [
    {
     "name": "stdout",
     "output_type": "stream",
     "text": [
      "[\n",
      "  \"绝命毒师:33\", \n",
      "  \"权力的游戏:14\", \n",
      "  \"24:13\", \n",
      "  \"生活大爆炸:12\", \n",
      "  \"老友记:10\", \n",
      "  \"疑犯追踪:9\", \n",
      "  \"无耻之徒:6\", \n",
      "  \"Lost:6\", \n",
      "  \"摩登家庭:5\", \n",
      "  \"英雄:5\", \n",
      "  \"犯罪心理:5\", \n",
      "  \"迷失:4\", \n",
      "  \"尼基塔:4\", \n",
      "  \"豪斯医生:4\", \n",
      "  \"Person of Interest:4\", \n",
      "  \"嗜血法医:3\", \n",
      "  \"Heroes:3\", \n",
      "  \"Forever:3\", \n",
      "  \"火线:3\", \n",
      "  \"Shameless:3\", \n",
      "  \"广告狂人:3\", \n",
      "  \"Prison Break:3\", \n",
      "  \"Fringe:3\", \n",
      "  \"NCIS:2\", \n",
      "  \"邪恶力量:2\", \n",
      "  \"Arrow:2\", \n",
      "  \"Supernatural:2\", \n",
      "  \"家有喜旺:2\", \n",
      "  \"Modern Family:2\", \n",
      "  \"Game of Thrones:2\", \n",
      "  \"Friends:2\", \n",
      "  \"House:2\", \n",
      "  \"Battlestar Galactica:2\", \n",
      "  \"天赐:2\", \n",
      "  \"Mr. Robot:2\", \n",
      "  \"Grimm:1\", \n",
      "  \"The Big Bang Theory:1\", \n",
      "  \"Silicon Valley:1\", \n",
      "  \"Dexter:1\", \n",
      "  \"The Blacklist:1\", \n",
      "  \"Chicago Fire:1\", \n",
      "  \"V:1\", \n",
      "  \"Boston Legal:1\", \n",
      "  \"Madam Secretary:1\", \n",
      "  \"太空堡垒卡拉狄加:1\", \n",
      "  \"南方公园:1\", \n",
      "  \"Everybody Hates Chris:1\", \n",
      "  \"实习医生格蕾:1\", \n",
      "  \"Boardwalk Empire:1\", \n",
      "  \"灵书妙探:1\", \n",
      "  \"True Detective:1\", \n",
      "  \"Agents of S.H.I.E.L.D.:1\", \n",
      "  \"2 Broke Girls:1\", \n",
      "  \"Gossip Girl:1\", \n",
      "  \"House of Cards:1\", \n",
      "  \"Eve:1\", \n",
      "  \"Agent Carter:1\", \n",
      "  \"Elementary:1\", \n",
      "  \"办公室:1\", \n",
      "  \"The 100:1\", \n",
      "  \"Castle:1\", \n",
      "  \"The Walking Dead:1\", \n",
      "  \"Scorpion:1\", \n",
      "  \"The Good Wife:1\", \n",
      "  \"成长的烦恼:1\", \n",
      "  \"危机边缘:1\", \n",
      "  \"Skins:1\", \n",
      "  \"大器晚成:1\", \n",
      "  \"The Wire:1\", \n",
      "  \"Breaking Bad:1\", \n",
      "  \"Better Call Saul:1\"\n",
      "]\n"
     ]
    }
   ],
   "source": [
    "import jieba\n",
    "import json\n",
    "from collections import Counter\n",
    "import codecs\n",
    "\n",
    "jieba.initialize()\n",
    "\n",
    "def get_list_from_file(filename):\n",
    "    lines = []\n",
    "    with codecs.open(filename, 'r', 'utf-8') as f:\n",
    "        lines = f.read().splitlines()\n",
    "    return lines\n",
    "\n",
    "def get_string_from_file(filename):\n",
    "    lines = []\n",
    "    with codecs.open(filename, 'r', 'utf-8') as f:\n",
    "        lines = f.read().splitlines()\n",
    "    return ' '.join(lines)\n",
    "\n",
    "# dict_words = ['Forever / 不死法医', '最喜欢', 'jjj kkk']\n",
    "dict_words = set(get_list_from_file('atv.txt'))\n",
    "\n",
    "#content = u'''我最喜欢的是 Forever / 不死法医 jjj kkk The 100\n",
    "#不要问我为什么 墨水有限 只可意会 不可言传 \n",
    "#竟然被砍了 被砍了 被砍了啊 没续.....'''\n",
    "content = get_string_from_file('v2ex_meiju.txt')\n",
    "\n",
    "#jieba.del_word('不死法医')\n",
    "[jieba.add_word(w, freq=None, tag=None) for w in dict_words]\n",
    "# jieba.load_userdict('atv.txt')\n",
    "\n",
    "original_words = jieba.lcut(content)\n",
    "#print([dict_words][:10])\n",
    "#print('-----')\n",
    "#print(original_words[:10])\n",
    "words = [word for word in original_words if word in dict_words]\n",
    "\n",
    "wordcount = Counter(words)\n",
    "#for item in wordcount.items(): \n",
    "#    print(\"{}\\t{}\".format(*item))\n",
    "\n",
    "wordcount_repr = [x[0] + ':' + str(x[1]) for x in wordcount.most_common()]\n",
    "\n",
    "print json.dumps(wordcount_repr, ensure_ascii=False, indent=2)\n"
   ]
  },
  {
   "cell_type": "code",
   "execution_count": null,
   "metadata": {
    "collapsed": true
   },
   "outputs": [],
   "source": []
  }
 ],
 "metadata": {
  "kernelspec": {
   "display_name": "Python 2",
   "language": "python",
   "name": "python2"
  },
  "language_info": {
   "codemirror_mode": {
    "name": "ipython",
    "version": 2
   },
   "file_extension": ".py",
   "mimetype": "text/x-python",
   "name": "python",
   "nbconvert_exporter": "python",
   "pygments_lexer": "ipython2",
   "version": "2.7.9"
  }
 },
 "nbformat": 4,
 "nbformat_minor": 0
}
