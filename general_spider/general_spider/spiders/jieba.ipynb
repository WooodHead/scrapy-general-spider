{
 "cells": [
  {
   "cell_type": "code",
   "execution_count": 1,
   "metadata": {
    "collapsed": false
   },
   "outputs": [
    {
     "name": "stdout",
     "output_type": "stream",
     "text": [
      "it works\n"
     ]
    }
   ],
   "source": []
  },
  {
   "cell_type": "code",
   "execution_count": 7,
   "metadata": {
    "collapsed": false
   },
   "outputs": [
    {
     "name": "stdout",
     "output_type": "stream",
     "text": [
      "xxxx\n",
      "[\n",
      "  \"我\", \n",
      "  \"最喜欢\", \n",
      "  \"的\", \n",
      "  \"是\", \n",
      "  \" \", \n",
      "  \"Forever\", \n",
      "  \" \", \n",
      "  \"/\", \n",
      "  \" \", \n",
      "  \"不死法医\", \n",
      "  \" \", \n",
      "  \"jjj kkk\", \n",
      "  \" \", \n",
      "  \"The 100\", \n",
      "  \"\\n\", \n",
      "  \"不要\", \n",
      "  \"问\", \n",
      "  \"我\", \n",
      "  \"为什么\", \n",
      "  \" \", \n",
      "  \"墨水\", \n",
      "  \"有限\", \n",
      "  \" \", \n",
      "  \"只可意会\", \n",
      "  \" \", \n",
      "  \"不可言传\", \n",
      "  \" \", \n",
      "  \"\\n\", \n",
      "  \"竟然\", \n",
      "  \"被\", \n",
      "  \"砍\", \n",
      "  \"了\", \n",
      "  \" \", \n",
      "  \"被\", \n",
      "  \"砍\", \n",
      "  \"了\", \n",
      "  \" \", \n",
      "  \"被\", \n",
      "  \"砍\", \n",
      "  \"了\", \n",
      "  \"啊\", \n",
      "  \" \", \n",
      "  \"没续\", \n",
      "  \".....\"\n",
      "]\n"
     ]
    }
   ],
   "source": [
    "import jieba\n",
    "import json\n",
    "\n",
    "jieba.initialize()\n",
    "\n",
    "dict_words = ['Forever / 不死法医', '最喜欢', 'jjj kkk']\n",
    "with open('atv.txt') as f:\n",
    "    dict_words = f.read().splitlines()\n",
    "\n",
    "#jieba.del_word('不死法医')\n",
    "[jieba.add_word(w, freq=None, tag=None) for w in dict_words]\n",
    "\n",
    "# jieba.load_userdict('atv.txt')\n",
    "\n",
    "content = u'''我最喜欢的是 Forever / 不死法医 jjj kkk The 100\n",
    "不要问我为什么 墨水有限 只可意会 不可言传 \n",
    "竟然被砍了 被砍了 被砍了啊 没续.....'''\n",
    "\n",
    "print 'xxxx'\n",
    "print json.dumps(jieba.lcut(content), ensure_ascii=False, indent=2)\n"
   ]
  },
  {
   "cell_type": "code",
   "execution_count": null,
   "metadata": {
    "collapsed": true
   },
   "outputs": [],
   "source": []
  }
 ],
 "metadata": {
  "kernelspec": {
   "display_name": "Python 2",
   "language": "python",
   "name": "python2"
  },
  "language_info": {
   "codemirror_mode": {
    "name": "ipython",
    "version": 2
   },
   "file_extension": ".py",
   "mimetype": "text/x-python",
   "name": "python",
   "nbconvert_exporter": "python",
   "pygments_lexer": "ipython2",
   "version": "2.7.9"
  }
 },
 "nbformat": 4,
 "nbformat_minor": 0
}
