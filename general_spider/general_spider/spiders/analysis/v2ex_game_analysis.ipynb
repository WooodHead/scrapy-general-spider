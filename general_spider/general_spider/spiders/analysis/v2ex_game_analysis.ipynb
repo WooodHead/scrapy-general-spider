{
 "cells": [
  {
   "cell_type": "code",
   "execution_count": 1,
   "metadata": {
    "collapsed": false
   },
   "outputs": [
    {
     "name": "stdout",
     "output_type": "stream",
     "text": [
      "it works\n"
     ]
    }
   ],
   "source": []
  },
  {
   "cell_type": "code",
   "execution_count": 10,
   "metadata": {
    "collapsed": false
   },
   "outputs": [
    {
     "name": "stdout",
     "output_type": "stream",
     "text": [
      "9\tminecraft\n",
      "9\tdota2\n",
      "8\t文明\n",
      "8\tterraria\n",
      "8\tstarve\n",
      "7\tcs\n",
      "7\tfez\n",
      "6\tbraid\n",
      "5\tsiege\n",
      "5\ttheater\n",
      "4\t饥荒\n",
      "4\tmetro\n",
      "4\tblock\n",
      "4\twar\n",
      "4\tportal\n",
      "3\t天际线\n",
      "3\trobocraft\n",
      "3\tgta5\n",
      "3\t巫师\n",
      "3\tisaac\n",
      "3\tkerbal\n",
      "3\t无主之地\n",
      "3\tmine\n",
      "3\tcsgo\n",
      "3\t沙盒\n",
      "3\tmini\n",
      "3\t求生之路\n",
      "3\t暴雪\n",
      "2\tgta\n",
      "2\thockey\n",
      "2\tlimbo\n",
      "2\tkingdom\n",
      "2\tskyline\n",
      "2\t野兽\n",
      "2\t暗黑\n",
      "2\tsuper\n",
      "2\t围攻\n",
      "2\tdeemo\n",
      "2\tcoc\n",
      "2\t瑞亚\n",
      "2\t独立\n",
      "2\tbombsquad\n",
      "2\tunepic\n",
      "2\tskylines\n",
      "2\tmc\n",
      "2\t上古卷轴\n",
      "2\tbinding\n",
      "2\tsales\n",
      "2\t砖块\n",
      "2\tmountain\n",
      "2\t49\n",
      "2\t全面战争\n",
      "2\tglow\n",
      "1\t模拟城市\n",
      "1\t瘟疫\n",
      "1\tvainglory\n",
      "1\t尾形\n",
      "1\trebirth\n",
      "1\t蝙蝠侠\n",
      "1\tmeat\n",
      "1\thurtworld\n",
      "1\t奇侠传\n",
      "1\tpyromaniac\n",
      "1\t单机游戏\n",
      "1\tvelocibox\n",
      "1\t挖洞\n",
      "1\tboombeach\n",
      "1\tleague\n",
      "1\tdayz\n",
      "1\tcubegun\n",
      "1\t方舟\n",
      "1\tviridi\n",
      "1\ttf2\n",
      "1\tl4d\n",
      "1\tremastered\n",
      "1\trust\n",
      "1\tbismarrck\n",
      "1\t骑马与砍杀\n",
      "1\t僵尸\n",
      "1\tportal1\n",
      "1\tportal2\n",
      "1\tinfinity\n",
      "1\ttheatre\n",
      "1\tkickstarter\n",
      "1\t监狱建筑师\n",
      "1\t火炬之光\n",
      "1\t晶体管\n"
     ]
    }
   ],
   "source": [
    "import jieba\n",
    "import json\n",
    "from collections import Counter\n",
    "import codecs\n",
    "\n",
    "jieba.initialize()\n",
    "\n",
    "def get_list_from_file(filename):\n",
    "    lines = []\n",
    "    with codecs.open(filename, 'r', 'utf-8') as f:\n",
    "        lines = f.read().splitlines()\n",
    "    return lines\n",
    "\n",
    "def get_string_from_file(filename):\n",
    "    lines = []\n",
    "    with codecs.open(filename, 'r', 'utf-8') as f:\n",
    "        lines = f.read().splitlines()\n",
    "    return ' '.join(lines)\n",
    "\n",
    "# dict_words = ['Forever / 不死法医', '最喜欢', 'jjj kkk']\n",
    "# dict_words = set(get_list_from_file('atv.txt'))\n",
    "\n",
    "dict_words_pre = [u'文明',u'dota2',u'Starve',u'Terraria',u'Minecraft',u'Besiege',u'饥荒',u'CS-GO',u'Dota2',u'Braid',u'MineCraft',u'csgo',u'fez',u'Theater',u'terraria',u'无主之地',u'暴雪',u'War',u'Portal',u'沙盒',u'天际线',u'求生之路',u'巫师',u'starve',u'FEZ',u'Metro',u'瑞亚',u'Isaac',u'super',u'braid',u'Robocraft',u'上古卷轴',u'Block',u'围攻',u'GTA',u'砖块',u'mountain',u'skyline',u'coc',u'skylines',u'全面战争',u'Mini',u'Mine',u'kingdom',u'GTA5',u'cs',u'监狱建筑师',u'暗黑',u'野兽',u'独立',u'sales',u'49',u'骑马与砍杀',u'Portal1',u'Portal2',u'模拟城市',u'unepic',u'League',u'Hurtworld',u'尾形',u'蝙蝠侠',u'mc',u'Vainglory',u'Remastered',u'Hockey',u'Theatre',u'Kickstarter',u'单机游戏',u'l4d',u'Rust',u'Cubegun',u'挖洞',u'Rebirth',u'Kerbal',u'Velocibox',u'TF2',u'晶体管',u'僵尸',u'Boombeach',u'Deemo',u'Glow',u'Pyromaniac',u'Viridi',u'瘟疫',u'limbo',u'BombSquad',u'DayZ',u'meat',u'Bismarrck',u'奇侠传',u'Binding',u'infinity',u'siege',u'gta5',u'robocraft',u'方舟',u'portal',u'火炬之光']\n",
    "dict_words = set([word.lower() for word in dict_words_pre])\n",
    "\n",
    "# print(dict_words)\n",
    "\n",
    "#content = u'''我最喜欢的是 Forever / 不死法医 jjj kkk The 100\n",
    "#不要问我为什么 墨水有限 只可意会 不可言传 \n",
    "#竟然被砍了 被砍了 被砍了啊 没续.....'''\n",
    "content = get_string_from_file('v2ex_game.txt')\n",
    "\n",
    "#jieba.del_word('不死法医')\n",
    "[jieba.add_word(w, freq=None, tag=None) for w in dict_words]\n",
    "# jieba.load_userdict('atv.txt')\n",
    "\n",
    "original_words = jieba.lcut(content)\n",
    "original_words_l = [word.lower() for word in original_words]\n",
    "\n",
    "#print([dict_words][:10])\n",
    "#print('-----')\n",
    "#print(original_words[:10])\n",
    "# words = [word for word in original_words if word in dict_words]\n",
    "words = [word for word in original_words_l if len(word) > 1 and word in dict_words]\n",
    "\n",
    "wordcount = Counter(words)\n",
    "#for item in wordcount.items(): \n",
    "#    print(\"{}\\t{}\".format(*item))\n",
    "\n",
    "import math\n",
    "# wordcount_repr = '\\n'.join([str(math.sqrt(x[1]))[0] + '\\t' + (x[0]) for x in wordcount.most_common()])\n",
    "wordcount_repr = '\\n'.join([str((x[1])) + '\\t' + (x[0]) for x in wordcount.most_common()])\n",
    "print wordcount_repr.replace(' ', '-')\n",
    "\n",
    "# print json.dumps(wordcount_repr, ensure_ascii=False, indent=2)\n"
   ]
  },
  {
   "cell_type": "code",
   "execution_count": 11,
   "metadata": {
    "collapsed": false
   },
   "outputs": [
    {
     "name": "stdout",
     "output_type": "stream",
     "text": [
      "9 minecraft | 9 dota2 | 8 文明 | 8 terraria | 8 starve | 7 cs | 7 fez | 6 braid | 5 siege | 5 theater | 4 饥荒 | 4 metro | 4 block | 4 war | 4 portal | 3 天际线 | 3 robocraft | 3 gta5 | 3 巫师 | 3 isaac | 3 kerbal | 3 无主之地 | 3 mine | 3 csgo | 3 沙盒 | 3 mini | 3 求生之路 | 3 暴雪 | 2 gta | 2 hockey | 2 limbo | 2 kingdom | 2 skyline | 2 野兽 | 2 暗黑 | 2 super | 2 围攻 | 2 deemo | 2 coc | 2 瑞亚 | 2 独立 | 2 bombsquad | 2 unepic | 2 skylines | 2 mc | 2 上古卷轴 | 2 binding | 2 sales | 2 砖块 | 2 mountain | 2 49 | 2 全面战争 | 2 glow | 1 模拟城市 | 1 瘟疫 | 1 vainglory | 1 尾形 | 1 rebirth | 1 蝙蝠侠 | 1 meat | 1 hurtworld | 1 奇侠传 | 1 pyromaniac | 1 单机游戏 | 1 velocibox | 1 挖洞 | 1 boombeach | 1 league | 1 dayz | 1 cubegun | 1 方舟 | 1 viridi | 1 tf2 | 1 l4d | 1 remastered | 1 rust | 1 bismarrck | 1 骑马与砍杀 | 1 僵尸 | 1 portal1 | 1 portal2 | 1 infinity | 1 theatre | 1 kickstarter | 1 监狱建筑师 | 1 火炬之光 | 1 晶体管\n"
     ]
    }
   ],
   "source": [
    "wordcount_repr = ' | '.join([str((x[1])) + ' ' + (x[0]) for x in wordcount.most_common()])\n",
    "print wordcount_repr"
   ]
  },
  {
   "cell_type": "code",
   "execution_count": null,
   "metadata": {
    "collapsed": true
   },
   "outputs": [],
   "source": []
  }
 ],
 "metadata": {
  "kernelspec": {
   "display_name": "Python 2",
   "language": "python",
   "name": "python2"
  },
  "language_info": {
   "codemirror_mode": {
    "name": "ipython",
    "version": 2
   },
   "file_extension": ".py",
   "mimetype": "text/x-python",
   "name": "python",
   "nbconvert_exporter": "python",
   "pygments_lexer": "ipython2",
   "version": "2.7.9"
  }
 },
 "nbformat": 4,
 "nbformat_minor": 0
}
